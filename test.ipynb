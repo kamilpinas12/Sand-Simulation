{
 "cells": [
  {
   "cell_type": "code",
   "execution_count": 1,
   "metadata": {},
   "outputs": [
    {
     "name": "stdout",
     "output_type": "stream",
     "text": [
      "22.5\n",
      "45.0\n",
      "67.5\n",
      "90.0\n",
      "112.5\n",
      "135.0\n",
      "157.5\n",
      "180.0\n",
      "202.5\n",
      "225.0\n",
      "247.5\n",
      "270.0\n",
      "292.5\n",
      "315.0\n",
      "337.5\n",
      "360.0\n"
     ]
    }
   ],
   "source": [
    "angle = 0\n",
    "while True:\n",
    "    angle += 22.5\n",
    "    print(angle)\n",
    "    if angle >= 360:\n",
    "        break"
   ]
  },
  {
   "cell_type": "code",
   "execution_count": 49,
   "metadata": {},
   "outputs": [
    {
     "name": "stdout",
     "output_type": "stream",
     "text": [
      "0.0\n"
     ]
    }
   ],
   "source": [
    "import numpy as np\n",
    "\n",
    "x = 0\n",
    "y = 0\n",
    "\n",
    "if y >= 0:\n",
    "    x = -x\n",
    "    alfa=np.rad2deg(np.arctan2(y, x))\n",
    "else:\n",
    "    alfa = -np.rad2deg(np.arctan2(y, x)) + 180\n",
    "\n",
    "print(alfa)\n",
    "\n",
    "\n"
   ]
  },
  {
   "cell_type": "code",
   "execution_count": 9,
   "metadata": {},
   "outputs": [
    {
     "name": "stdout",
     "output_type": "stream",
     "text": [
      "[[0 0 0 1]\n",
      " [1 0 1 0]\n",
      " [0 1 0 0]\n",
      " [1 0 0 1]]\n",
      "[[  0   0   0   0   0   0 255 255]\n",
      " [  0   0   0   0   0   0 255 255]\n",
      " [255 255   0   0 255 255   0   0]\n",
      " [255 255   0   0 255 255   0   0]\n",
      " [  0   0 255 255   0   0   0   0]\n",
      " [  0   0 255 255   0   0   0   0]\n",
      " [255 255   0   0   0   0 255 255]\n",
      " [255 255   0   0   0   0 255 255]]\n"
     ]
    }
   ],
   "source": [
    "import numpy as np\n",
    "\n",
    "lst = np.matrix('0 0 0 1; 1 0 1 0; 0 1 0 0; 1 0 0 1')\n",
    "print(lst)\n",
    "\n",
    "element_size = 2\n",
    "\n",
    "resize_img = np.zeros((lst.shape[0]*element_size, lst.shape[1]*element_size), dtype=np.uint8)\n",
    "\n",
    "for y in range(lst.shape[0]):\n",
    "    for x in range(lst.shape[1]):\n",
    "        if lst[y, x] == 1:\n",
    "            #print(y*element_size,element_size*y+element_size, x*element_size,element_size*x+element_size)\n",
    "            resize_img[y*element_size:element_size*y+element_size, x*element_size:element_size*x+element_size] = np.ones((element_size, element_size), dtype=np.uint8)*255\n",
    "\n",
    "print(resize_img)"
   ]
  },
  {
   "cell_type": "code",
   "execution_count": 2,
   "metadata": {},
   "outputs": [
    {
     "name": "stdout",
     "output_type": "stream",
     "text": [
      "4\n"
     ]
    }
   ],
   "source": [
    "a = 2\n",
    "fun = lambda x: x + a\n",
    "\n",
    "print(fun(2))"
   ]
  }
 ],
 "metadata": {
  "kernelspec": {
   "display_name": "systemy_wizyjne",
   "language": "python",
   "name": "python3"
  },
  "language_info": {
   "codemirror_mode": {
    "name": "ipython",
    "version": 3
   },
   "file_extension": ".py",
   "mimetype": "text/x-python",
   "name": "python",
   "nbconvert_exporter": "python",
   "pygments_lexer": "ipython3",
   "version": "3.11.8"
  }
 },
 "nbformat": 4,
 "nbformat_minor": 2
}
